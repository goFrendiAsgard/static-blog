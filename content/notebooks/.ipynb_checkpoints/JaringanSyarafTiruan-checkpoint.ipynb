{
 "cells": [
  {
   "cell_type": "raw",
   "metadata": {},
   "source": [
    "---\n",
    "title: \"Jaringan Syaraf Tiruan\"\n",
    "date: 2019-07-31T07:48:41+07:00\n",
    "categories:\n",
    "- Machine Learning\n",
    "tags:\n",
    "- Macine Learning\n",
    "---"
   ]
  },
  {
   "cell_type": "markdown",
   "metadata": {},
   "source": [
    "# Jaringan Syaraf Tiruan\n",
    "\n",
    "Ada banyak mitos yang beredar tentang Jaringan Syaraf Tiruan (JST). Misalnya:\n",
    "* JST mampu membuat sistem yang secerdas manusia.\n",
    "* JST memberikan akurasi yang lebih tinggi daripada pemrograman konvensional.\n",
    "* JST dan Kecerdasan Buatan (AI) akan mengambil alih dunia.\n",
    "\n",
    "Mitos-mitos tersebut sebenarnya cukup menyesatkan. Di satu sisi, hal ini membuat banyak orang menjadi khawatir akan perkembangan AI. Sementara di sisi lain, ada juga mereka yang berharap terlalu banyak pada AI.\n",
    "\n",
    "Dalam artikel ini, saya ingin menunjukkan bagaimana sebenarnya cara kerja JST secara teknis. Harapannya. Setelah teman-teman membaca artikel ini, teman-teman tidak lagi merasa takut atau berharap terlalu banyak pada AI dan JST."
   ]
  },
  {
   "cell_type": "markdown",
   "metadata": {},
   "source": [
    "# Jaringan Syaraf Tiruan VS Jaringan Syaraf Asli\n",
    "\n",
    "Banyak penulis yang mengawali pembahasannya dengan menganalogikan JST dan jaringan syaraf manusia. Walaupun tidak salah, namun pembahasan tersebut kerap mengarahkan pembaca pada harapan yang berlebihan.\n",
    "\n",
    "Misalnya begini: \"Oh, karena saya bisa jatuh cinta, maka JST pun juga akan bisa jatuh cinta\".\n",
    "\n",
    "Tentu saja tidak benar. Kalau mau jujur, sampai saat ini pun kita tidak terlalu tahu bagaimana otak bekerja. Kita bahkan belum bisa memformulasikan \"apa itu kesadaran\". Dan JST (sekalipun terinspirasi oleh jaringan syaraf asli), sebenarnya memiliki kapabilitas yang jauh di bawah manusia.\n",
    "\n",
    "Sebelum kita lanjutkan pada pembahasan yang lebih detail, mari kita mulai dengan permasalahan sederhana."
   ]
  },
  {
   "cell_type": "markdown",
   "metadata": {},
   "source": [
    "# Permasalahan Berat Badan Ideal\n",
    "\n",
    "Anton, Budi, dan Cecep masing-masing mengaku memiliki berat badan ideal. Dari penampakan mereka, tampaknya ketiga orang tersebut tidak berbohong.\n",
    "\n",
    "Anton memiliki tinggi badan 165 cm dan berat badan 65 kg, sedangkan Budi memiliki tinggi badan 170 cm dan berat badan 70 kg.\n",
    "\n",
    "Permasalahannya, Si Cecep lupa berapa berat badannya, dan dia hanya ingat tinggi badannya 163 cm. Tanpa memakai timbangan, bisakah kita mengira-ngira berat badan Cecep?\n",
    "\n",
    "Nah, permasalahan ini sebenarnya bisa diselesaikan dengan aljabar sederhana, selama kita mampu memodelkan persamaannya. Untungnya dalam kasus ini, permodelannya cukup sederhana. (Konon, entah benar atau tidak, permodelan berat badan ideal untuk orang yang tingginya di atas 150 cm itu sesuai dengan fungsi linear).\n",
    "\n",
    "Misalnya kita anggap berat badan adalah `y`, sedangkan tinggi badan adalah `x`. Maka berat badan ideal bisa ditentukan dengan rumus `y = mx + c` di mana `m` dan `c` adalah angka-angka dengan nilai tertentu.\n",
    "\n",
    "Oke, tampaknya alam semesta tidak terlalu berpihak pada kita. Karena untuk menentuka berat badan Cecep (`y-cecep`), kita tidak bisa hanya mengandalkan tinggi nya saja (`x-cecep`). Sebaliknya, kita harus tahu juga nilai `m` dan `c` yang ideal.\n",
    "\n",
    "Untungnya, kita punya Anton dan Budi. Karena rumus berat badan ideal itu seharusnya sama untuk setiap orang, maka nilai `m` dan `c` untuk Anton dan Buid, harusnya berlaku pula untuk Cecep.\n",
    "\n",
    "Mari kita coba:\n",
    "\n",
    "```\n",
    "y = mx + c, di mana y adalah berat badan, sedangkan x adalah tinggi badan.\n",
    "Maka\n",
    "   Untuk Anton: 65 = m * 165 + c\n",
    "   Untuk Budi : 70 = m * 170 + c\n",
    "```\n",
    "\n",
    "Mari kita fokus ke Anton dulu:\n",
    "\n",
    "```\n",
    "65 = (m * 165) + c\n",
    "c = 65 - (m * 165)\n",
    "```\n",
    "\n",
    "Hmm... tidak terlalu membantu, tapi setidaknya kita tahu bagaimana hubungan antara `c` dan `m`. Sekarang, mari kita fokus ke Budi:\n",
    "\n",
    "```\n",
    "70 = m * 170 + c\n",
    "```\n",
    "\n",
    "Karena `c = 65 - (m * 165)`, maka kita bisa tulis ulang persamaan berat badan Budi dengan mengganti nilai `c` sehingga menjadi seperti ini:\n",
    "\n",
    "```\n",
    "70 = (m * 170) + 65 - (m * 165)\n",
    "70 - 65 = (m * 170) - (m * 165)\n",
    "5 = m * (170 * 165)\n",
    "5 = m * 5\n",
    "m = 5/5\n",
    "m = 1\n",
    "```\n",
    "\n",
    "Oke, sekarang kita tahu nilai `m`. Mari kita lanjutkan dengan mencari nilai `c`. Kita bisa kembali lagi fokus ke salah satu, Anton atau Budi. Lagi-lagi karena nilai `m` dan `c` untuk kedua persamaan tersebut sama persis, maka tidak masalah memilih Anton atau Budi. Untuk kali ini kita pilih Anton.\n",
    "\n",
    "```\n",
    "65 = m * 165 + c\n",
    "65 = 1 * 165 + c\n",
    "65 = 165 + c\n",
    "c = 65 - 165\n",
    "c = -100\n",
    "```\n",
    "\n",
    "Nah, akhirnya kita menemukan nilai `m` dan `c`. Dari sini kita bisa simpulkan bahwa rumus berat badan ideal untuk orang yang tingginya di atas 150 cm adalah `y = (1 * x) - 100`, di mana `y` adalah berat badan, dan `x` adalah tinggi badan.\n",
    "\n",
    "Akhirnya, dengan rumus berat badan ideal yang sudah kita temukan tadi, kita bisa menemukan berat badan Cecep. Karena tinggi badan Cecep adalah 163 cm, maka:\n",
    "\n",
    "```\n",
    "y = (1 * 163) - 100\n",
    "y = 63\n",
    "```\n",
    "\n",
    "Jadi tinggi badan Cecep adalah 63 cm.\n",
    "\n",
    "Teknik yang baru kita lakukan tadi disebut teknik `subtitusi`. Teknik ini cukup berguna untuk melakukan berbagai macam konversi linear saat kita lupa \"rumus resmi\" nya. Rumus konversi Celcius-Fahrenhait-Reamur, atau tingkat-kemurnian-emas (dalam persen) ke karat, dan sebagainya. Saat berhadapan dengan kasus-kasus seperti itu, kita hanya butuh kertas dan pensil. Tidak butuh AI :)\n",
    "\n",
    "Sedikit fakta menarik, ternyata perhitungan kita barusan, sesuai dengan artikel ini: https://lifestyle.kompas.com/read/2017/08/21/081619320/begini-cara-menghitung-berat-badan-ideal-anda. Tentu saja, karena saya sudah mencocokkan angka-angkanya terlebih dahulu :)"
   ]
  },
  {
   "cell_type": "markdown",
   "metadata": {},
   "source": [
    "# Lebih Jauh dengan Permasalahan Berat Badan Ideal\n",
    "\n",
    "Berat badan ideal adalah masalah kita semua. Sedikit saja kita kurang bergerak dan terlalu banyak makan, maka kita akan jadi terlalu gemuk. Sebaliknya, jika kita makan terlalu sedikit, maka kita akan jadi terlalu kurus. Dalam hal ini memiliki berat badan ideal itu bisa dianalogikan seperti berjalan di atas seutas tali tipis, sedikit terlalu ke kiri, atau sedikit terlalu ke kanan, maka kita akan jatuh ke dalam lembah `obesitas` atau `mal-nutrisi`.\n",
    "\n",
    "Nah, menariknya, analogi yang saya tulis barusan tadi ternyata persis sama dengan permodelan matematika yang ada:\n",
    "\n",
    "```\n",
    "y = 1 * m - 100\n",
    "```\n",
    "\n"
   ]
  },
  {
   "cell_type": "code",
   "execution_count": null,
   "metadata": {},
   "outputs": [],
   "source": []
  }
 ],
 "metadata": {
  "kernelspec": {
   "display_name": "Python 3",
   "language": "python",
   "name": "python3"
  },
  "language_info": {
   "codemirror_mode": {
    "name": "ipython",
    "version": 3
   },
   "file_extension": ".py",
   "mimetype": "text/x-python",
   "name": "python",
   "nbconvert_exporter": "python",
   "pygments_lexer": "ipython3",
   "version": "3.7.4"
  }
 },
 "nbformat": 4,
 "nbformat_minor": 2
}
