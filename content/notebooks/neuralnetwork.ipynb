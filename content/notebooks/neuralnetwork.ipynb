{
 "cells": [
  {
   "cell_type": "raw",
   "metadata": {},
   "source": [
    "---\n",
    "title: \"Neural Network From Scratch\"\n",
    "date: 2019-07-31T07:48:41+07:00\n",
    "categories:\n",
    "- Machine Learning\n",
    "tags:\n",
    "- Macine Learning\n",
    "---"
   ]
  },
  {
   "cell_type": "markdown",
   "metadata": {},
   "source": [
    "# The Problem\n",
    "\n",
    "Artificial neural network is no magic. The main purpose of neural network (and any classical machine learning algorithm) is to find out `magic numbers` in order to find out the best `classifier` or `regressor`.\n",
    "\n",
    "Suppose we have the following data:\n",
    "\n",
    "```\n",
    "age height weight\n",
    "50  170    75\n",
    "40  180    ?\n",
    "```\n",
    "\n",
    "Now, we want to know the weight of someone whose age is `40`, and height is `180`.\n",
    "\n",
    "This is a regression problem. Mathematically you can formulate the problem as follow:\n",
    "\n",
    "$$weight = w1.age + w2.height + w3$$\n",
    "\n",
    "Now our goal is to find out 3 magic numbers, `w1`, `w2`, and `w3`."
   ]
  },
  {
   "cell_type": "markdown",
   "metadata": {},
   "source": [
    "# A simple approach (Non-neural-network)\n",
    "\n",
    "You might be tempted to solve the equation using pure `algebra`. Since we have single data with three variables (aka: the magic numbers), I think we can't solve the equation with pure algebra.\n",
    "\n",
    "So, let's solve the using brute-force experiments!!!\n",
    "\n",
    "## Finding the regressor\n",
    "\n",
    "First of all, we have to define our `loss function` (how far we are from the target). In our case, the loss function is as follow:\n",
    "\n",
    "$$error = |actual\\_weight - predicted\\_weight|$$\n",
    "$$error = |actual\\_weight - (w1.age + w2.height + w3)|$$\n",
    "\n",
    "Let's implement the loss function in Python:"
   ]
  },
  {
   "cell_type": "code",
   "execution_count": 62,
   "metadata": {},
   "outputs": [],
   "source": [
    "def loss_function(actual_weight, w1, age, w2, height, w3):\n",
    "    error = abs(actual_weight - (w1*age + w2*height + w3))\n",
    "    return error"
   ]
  },
  {
   "cell_type": "markdown",
   "metadata": {},
   "source": [
    "Now, let's try to assign `1`-`100` to `w1`, `w2`, and `w3` in order to get the best numbers for each of them"
   ]
  },
  {
   "cell_type": "code",
   "execution_count": 71,
   "metadata": {},
   "outputs": [
    {
     "name": "stdout",
     "output_type": "stream",
     "text": [
      "error: 0.0 w1: -101 w2: 30 w3: 25\n",
      "error: 0.0 w1: -100 w2: 30 w3: -25\n",
      "error: 0.0 w1: -99 w2: 29 w3: 95\n",
      "error: 0.0 w1: -99 w2: 30 w3: -75\n",
      "error: 0.0 w1: -98 w2: 29 w3: 45\n",
      "error: 0.0 w1: -97 w2: 29 w3: -5\n",
      "error: 0.0 w1: -96 w2: 29 w3: -55\n",
      "error: 0.0 w1: -95 w2: 28 w3: 65\n",
      "error: 0.0 w1: -94 w2: 28 w3: 15\n",
      "error: 0.0 w1: -93 w2: 28 w3: -35\n",
      "error: 0.0 w1: -92 w2: 27 w3: 85\n",
      "error: 0.0 w1: -92 w2: 28 w3: -85\n",
      "error: 0.0 w1: -91 w2: 27 w3: 35\n",
      "error: 0.0 w1: -90 w2: 27 w3: -15\n",
      "error: 0.0 w1: -89 w2: 27 w3: -65\n",
      "error: 0.0 w1: -88 w2: 26 w3: 55\n",
      "error: 0.0 w1: -87 w2: 26 w3: 5\n",
      "error: 0.0 w1: -86 w2: 26 w3: -45\n",
      "error: 0.0 w1: -85 w2: 25 w3: 75\n",
      "error: 0.0 w1: -85 w2: 26 w3: -95\n",
      "error: 0.0 w1: -84 w2: 25 w3: 25\n",
      "error: 0.0 w1: -83 w2: 25 w3: -25\n",
      "error: 0.0 w1: -82 w2: 24 w3: 95\n",
      "error: 0.0 w1: -82 w2: 25 w3: -75\n",
      "error: 0.0 w1: -81 w2: 24 w3: 45\n",
      "error: 0.0 w1: -80 w2: 24 w3: -5\n",
      "error: 0.0 w1: -79 w2: 24 w3: -55\n",
      "error: 0.0 w1: -78 w2: 23 w3: 65\n",
      "error: 0.0 w1: -77 w2: 23 w3: 15\n",
      "error: 0.0 w1: -76 w2: 23 w3: -35\n",
      "error: 0.0 w1: -75 w2: 22 w3: 85\n",
      "error: 0.0 w1: -75 w2: 23 w3: -85\n",
      "error: 0.0 w1: -74 w2: 22 w3: 35\n",
      "error: 0.0 w1: -73 w2: 22 w3: -15\n",
      "error: 0.0 w1: -72 w2: 22 w3: -65\n",
      "error: 0.0 w1: -71 w2: 21 w3: 55\n",
      "error: 0.0 w1: -70 w2: 21 w3: 5\n",
      "error: 0.0 w1: -69 w2: 21 w3: -45\n",
      "error: 0.0 w1: -68 w2: 20 w3: 75\n",
      "error: 0.0 w1: -68 w2: 21 w3: -95\n",
      "error: 0.0 w1: -67 w2: 20 w3: 25\n",
      "error: 0.0 w1: -66 w2: 20 w3: -25\n",
      "error: 0.0 w1: -65 w2: 19 w3: 95\n",
      "error: 0.0 w1: -65 w2: 20 w3: -75\n",
      "error: 0.0 w1: -64 w2: 19 w3: 45\n",
      "error: 0.0 w1: -63 w2: 19 w3: -5\n",
      "error: 0.0 w1: -62 w2: 19 w3: -55\n",
      "error: 0.0 w1: -61 w2: 18 w3: 65\n",
      "error: 0.0 w1: -60 w2: 18 w3: 15\n",
      "error: 0.0 w1: -59 w2: 18 w3: -35\n",
      "error: 0.0 w1: -58 w2: 17 w3: 85\n",
      "error: 0.0 w1: -58 w2: 18 w3: -85\n",
      "error: 0.0 w1: -57 w2: 17 w3: 35\n",
      "error: 0.0 w1: -56 w2: 17 w3: -15\n",
      "error: 0.0 w1: -55 w2: 17 w3: -65\n",
      "error: 0.0 w1: -54 w2: 16 w3: 55\n",
      "error: 0.0 w1: -53 w2: 16 w3: 5\n",
      "error: 0.0 w1: -52 w2: 16 w3: -45\n",
      "error: 0.0 w1: -51 w2: 15 w3: 75\n",
      "error: 0.0 w1: -51 w2: 16 w3: -95\n",
      "error: 0.0 w1: -50 w2: 15 w3: 25\n",
      "error: 0.0 w1: -49 w2: 15 w3: -25\n",
      "error: 0.0 w1: -48 w2: 14 w3: 95\n",
      "error: 0.0 w1: -48 w2: 15 w3: -75\n",
      "error: 0.0 w1: -47 w2: 14 w3: 45\n",
      "error: 0.0 w1: -46 w2: 14 w3: -5\n",
      "error: 0.0 w1: -45 w2: 14 w3: -55\n",
      "error: 0.0 w1: -44 w2: 13 w3: 65\n",
      "error: 0.0 w1: -43 w2: 13 w3: 15\n",
      "error: 0.0 w1: -42 w2: 13 w3: -35\n",
      "error: 0.0 w1: -41 w2: 12 w3: 85\n",
      "error: 0.0 w1: -41 w2: 13 w3: -85\n",
      "error: 0.0 w1: -40 w2: 12 w3: 35\n",
      "error: 0.0 w1: -39 w2: 12 w3: -15\n",
      "error: 0.0 w1: -38 w2: 12 w3: -65\n",
      "error: 0.0 w1: -37 w2: 11 w3: 55\n",
      "error: 0.0 w1: -36 w2: 11 w3: 5\n",
      "error: 0.0 w1: -35 w2: 11 w3: -45\n",
      "error: 0.0 w1: -34 w2: 10 w3: 75\n",
      "error: 0.0 w1: -34 w2: 11 w3: -95\n",
      "error: 0.0 w1: -33 w2: 10 w3: 25\n",
      "error: 0.0 w1: -32 w2: 10 w3: -25\n",
      "error: 0.0 w1: -31 w2: 9 w3: 95\n",
      "error: 0.0 w1: -31 w2: 10 w3: -75\n",
      "error: 0.0 w1: -30 w2: 9 w3: 45\n",
      "error: 0.0 w1: -29 w2: 9 w3: -5\n",
      "error: 0.0 w1: -28 w2: 9 w3: -55\n",
      "error: 0.0 w1: -27 w2: 8 w3: 65\n",
      "error: 0.0 w1: -26 w2: 8 w3: 15\n",
      "error: 0.0 w1: -25 w2: 8 w3: -35\n",
      "error: 0.0 w1: -24 w2: 7 w3: 85\n",
      "error: 0.0 w1: -24 w2: 8 w3: -85\n",
      "error: 0.0 w1: -23 w2: 7 w3: 35\n",
      "error: 0.0 w1: -22 w2: 7 w3: -15\n",
      "error: 0.0 w1: -21 w2: 7 w3: -65\n",
      "error: 0.0 w1: -20 w2: 6 w3: 55\n",
      "error: 0.0 w1: -19 w2: 6 w3: 5\n",
      "error: 0.0 w1: -18 w2: 6 w3: -45\n",
      "error: 0.0 w1: -17 w2: 5 w3: 75\n",
      "error: 0.0 w1: -17 w2: 6 w3: -95\n",
      "error: 0.0 w1: -16 w2: 5 w3: 25\n",
      "error: 0.0 w1: -15 w2: 5 w3: -25\n",
      "error: 0.0 w1: -14 w2: 4 w3: 95\n",
      "error: 0.0 w1: -14 w2: 5 w3: -75\n",
      "error: 0.0 w1: -13 w2: 4 w3: 45\n",
      "error: 0.0 w1: -12 w2: 4 w3: -5\n",
      "error: 0.0 w1: -11 w2: 4 w3: -55\n",
      "error: 0.0 w1: -10 w2: 3 w3: 65\n",
      "error: 0.0 w1: -9 w2: 3 w3: 15\n",
      "error: 0.0 w1: -8 w2: 3 w3: -35\n",
      "error: 0.0 w1: -7 w2: 2 w3: 85\n",
      "error: 0.0 w1: -7 w2: 3 w3: -85\n",
      "error: 0.0 w1: -6 w2: 2 w3: 35\n",
      "error: 0.0 w1: -5 w2: 2 w3: -15\n",
      "error: 0.0 w1: -4 w2: 2 w3: -65\n",
      "error: 0.0 w1: -3 w2: 1 w3: 55\n",
      "error: 0.0 w1: -2 w2: 1 w3: 5\n",
      "error: 0.0 w1: -1 w2: 1 w3: -45\n",
      "error: 0.0 w1: 0 w2: 0 w3: 75\n",
      "error: 0.0 w1: 0 w2: 1 w3: -95\n",
      "error: 0.0 w1: 1 w2: 0 w3: 25\n",
      "error: 0.0 w1: 2 w2: 0 w3: -25\n",
      "error: 0.0 w1: 3 w2: -1 w3: 95\n",
      "error: 0.0 w1: 3 w2: 0 w3: -75\n",
      "error: 0.0 w1: 4 w2: -1 w3: 45\n",
      "error: 0.0 w1: 5 w2: -1 w3: -5\n",
      "error: 0.0 w1: 6 w2: -1 w3: -55\n",
      "error: 0.0 w1: 7 w2: -2 w3: 65\n",
      "error: 0.0 w1: 8 w2: -2 w3: 15\n",
      "error: 0.0 w1: 9 w2: -2 w3: -35\n",
      "error: 0.0 w1: 10 w2: -3 w3: 85\n",
      "error: 0.0 w1: 10 w2: -2 w3: -85\n",
      "error: 0.0 w1: 11 w2: -3 w3: 35\n",
      "error: 0.0 w1: 12 w2: -3 w3: -15\n",
      "error: 0.0 w1: 13 w2: -3 w3: -65\n",
      "error: 0.0 w1: 14 w2: -4 w3: 55\n",
      "error: 0.0 w1: 15 w2: -4 w3: 5\n",
      "error: 0.0 w1: 16 w2: -4 w3: -45\n",
      "error: 0.0 w1: 17 w2: -5 w3: 75\n",
      "error: 0.0 w1: 17 w2: -4 w3: -95\n",
      "error: 0.0 w1: 18 w2: -5 w3: 25\n",
      "error: 0.0 w1: 19 w2: -5 w3: -25\n",
      "error: 0.0 w1: 20 w2: -6 w3: 95\n",
      "error: 0.0 w1: 20 w2: -5 w3: -75\n",
      "error: 0.0 w1: 21 w2: -6 w3: 45\n",
      "error: 0.0 w1: 22 w2: -6 w3: -5\n",
      "error: 0.0 w1: 23 w2: -6 w3: -55\n",
      "error: 0.0 w1: 24 w2: -7 w3: 65\n",
      "error: 0.0 w1: 25 w2: -7 w3: 15\n",
      "error: 0.0 w1: 26 w2: -7 w3: -35\n",
      "error: 0.0 w1: 27 w2: -8 w3: 85\n",
      "error: 0.0 w1: 27 w2: -7 w3: -85\n",
      "error: 0.0 w1: 28 w2: -8 w3: 35\n",
      "error: 0.0 w1: 29 w2: -8 w3: -15\n",
      "error: 0.0 w1: 30 w2: -8 w3: -65\n",
      "error: 0.0 w1: 31 w2: -9 w3: 55\n",
      "error: 0.0 w1: 32 w2: -9 w3: 5\n",
      "error: 0.0 w1: 33 w2: -9 w3: -45\n",
      "error: 0.0 w1: 34 w2: -10 w3: 75\n",
      "error: 0.0 w1: 34 w2: -9 w3: -95\n",
      "error: 0.0 w1: 35 w2: -10 w3: 25\n",
      "error: 0.0 w1: 36 w2: -10 w3: -25\n",
      "error: 0.0 w1: 37 w2: -11 w3: 95\n",
      "error: 0.0 w1: 37 w2: -10 w3: -75\n",
      "error: 0.0 w1: 38 w2: -11 w3: 45\n",
      "error: 0.0 w1: 39 w2: -11 w3: -5\n",
      "error: 0.0 w1: 40 w2: -11 w3: -55\n",
      "error: 0.0 w1: 41 w2: -12 w3: 65\n",
      "error: 0.0 w1: 42 w2: -12 w3: 15\n",
      "error: 0.0 w1: 43 w2: -12 w3: -35\n",
      "error: 0.0 w1: 44 w2: -13 w3: 85\n",
      "error: 0.0 w1: 44 w2: -12 w3: -85\n",
      "error: 0.0 w1: 45 w2: -13 w3: 35\n",
      "error: 0.0 w1: 46 w2: -13 w3: -15\n",
      "error: 0.0 w1: 47 w2: -13 w3: -65\n",
      "error: 0.0 w1: 48 w2: -14 w3: 55\n",
      "error: 0.0 w1: 49 w2: -14 w3: 5\n",
      "error: 0.0 w1: 50 w2: -14 w3: -45\n",
      "error: 0.0 w1: 51 w2: -15 w3: 75\n",
      "error: 0.0 w1: 51 w2: -14 w3: -95\n",
      "error: 0.0 w1: 52 w2: -15 w3: 25\n",
      "error: 0.0 w1: 53 w2: -15 w3: -25\n",
      "error: 0.0 w1: 54 w2: -16 w3: 95\n",
      "error: 0.0 w1: 54 w2: -15 w3: -75\n",
      "error: 0.0 w1: 55 w2: -16 w3: 45\n",
      "error: 0.0 w1: 56 w2: -16 w3: -5\n",
      "error: 0.0 w1: 57 w2: -16 w3: -55\n",
      "error: 0.0 w1: 58 w2: -17 w3: 65\n",
      "error: 0.0 w1: 59 w2: -17 w3: 15\n",
      "error: 0.0 w1: 60 w2: -17 w3: -35\n",
      "error: 0.0 w1: 61 w2: -18 w3: 85\n",
      "error: 0.0 w1: 61 w2: -17 w3: -85\n",
      "error: 0.0 w1: 62 w2: -18 w3: 35\n",
      "error: 0.0 w1: 63 w2: -18 w3: -15\n",
      "error: 0.0 w1: 64 w2: -18 w3: -65\n",
      "error: 0.0 w1: 65 w2: -19 w3: 55\n",
      "error: 0.0 w1: 66 w2: -19 w3: 5\n",
      "error: 0.0 w1: 67 w2: -19 w3: -45\n",
      "error: 0.0 w1: 68 w2: -20 w3: 75\n",
      "error: 0.0 w1: 68 w2: -19 w3: -95\n",
      "error: 0.0 w1: 69 w2: -20 w3: 25\n",
      "error: 0.0 w1: 70 w2: -20 w3: -25\n",
      "error: 0.0 w1: 71 w2: -21 w3: 95\n",
      "error: 0.0 w1: 71 w2: -20 w3: -75\n",
      "error: 0.0 w1: 72 w2: -21 w3: 45\n",
      "error: 0.0 w1: 73 w2: -21 w3: -5\n",
      "error: 0.0 w1: 74 w2: -21 w3: -55\n",
      "error: 0.0 w1: 75 w2: -22 w3: 65\n",
      "error: 0.0 w1: 76 w2: -22 w3: 15\n",
      "error: 0.0 w1: 77 w2: -22 w3: -35\n",
      "error: 0.0 w1: 78 w2: -23 w3: 85\n",
      "error: 0.0 w1: 78 w2: -22 w3: -85\n",
      "error: 0.0 w1: 79 w2: -23 w3: 35\n",
      "error: 0.0 w1: 80 w2: -23 w3: -15\n",
      "error: 0.0 w1: 81 w2: -23 w3: -65\n",
      "error: 0.0 w1: 82 w2: -24 w3: 55\n",
      "error: 0.0 w1: 83 w2: -24 w3: 5\n",
      "error: 0.0 w1: 84 w2: -24 w3: -45\n",
      "error: 0.0 w1: 85 w2: -25 w3: 75\n",
      "error: 0.0 w1: 85 w2: -24 w3: -95\n",
      "error: 0.0 w1: 86 w2: -25 w3: 25\n",
      "error: 0.0 w1: 87 w2: -25 w3: -25\n",
      "error: 0.0 w1: 88 w2: -26 w3: 95\n",
      "error: 0.0 w1: 88 w2: -25 w3: -75\n",
      "error: 0.0 w1: 89 w2: -26 w3: 45\n",
      "error: 0.0 w1: 90 w2: -26 w3: -5\n",
      "error: 0.0 w1: 91 w2: -26 w3: -55\n",
      "error: 0.0 w1: 92 w2: -27 w3: 65\n",
      "error: 0.0 w1: 93 w2: -27 w3: 15\n",
      "error: 0.0 w1: 94 w2: -27 w3: -35\n",
      "error: 0.0 w1: 95 w2: -28 w3: 85\n",
      "error: 0.0 w1: 95 w2: -27 w3: -85\n",
      "error: 0.0 w1: 96 w2: -28 w3: 35\n",
      "error: 0.0 w1: 97 w2: -28 w3: -15\n",
      "error: 0.0 w1: 98 w2: -28 w3: -65\n",
      "error: 0.0 w1: 99 w2: -29 w3: 55\n",
      "error: 0.0 w1: 100 w2: -29 w3: 5\n"
     ]
    }
   ],
   "source": [
    "age = 50.0\n",
    "height = 170.0\n",
    "actual_weight = 75.0\n",
    "best_error = 0 # error threshold, we are only interested for error that is less or equal to 0\n",
    "\n",
    "for w1 in range(-101, 101):\n",
    "    for w2 in range(-100, 101):\n",
    "        for w3 in range(-100, 101):\n",
    "            error = loss_function(actual_weight, w1, age, w2, height, w3)\n",
    "            if error <= best_error:\n",
    "                best_error = error\n",
    "                print(\"error:\", error, \"w1:\", w1, \"w2:\", w2, \"w3:\", w3)\n"
   ]
  },
  {
   "cell_type": "markdown",
   "metadata": {},
   "source": [
    "Perfect, we have several predictors!!! \n",
    "\n",
    "Let's take the first one: `w1=-100`, `w2=30`, and `w3=-25`\n",
    "\n",
    "For `age=50`, `height=170`, we get\n",
    "\n",
    "$$prediction\\_weight = -100 . 50 + 30 . 170 - 25 . 1$$\n",
    "$$prediction\\_weight = -5000 + 5100 - 25$$\n",
    "$$prediction\\_weight = 75$$\n",
    "\n",
    "The `prediction_weight` is equal to `actual_weight`!!!"
   ]
  },
  {
   "cell_type": "markdown",
   "metadata": {},
   "source": [
    "## Using the regressor\n",
    "\n",
    "Finally, for `age=40` and `weight=180`, we get this:\n",
    "\n",
    "$$prediction\\_weight = -100.40 + 30.180 - 25.1$$\n",
    "$$prediction\\_weight = -4000 + 5400 - 25$$\n",
    "$$prediction\\_weight = 1375$$\n",
    "\n",
    "Well, not so make sense, probably we need to use another available predictor.\n",
    "\n",
    "__Note:__ If your problem can be perfectly solved with pure-algebra/brute-force. Just use them for your own good. Neural network or any other machine learning algorithm, should only be used if the solution is not obvious."
   ]
  },
  {
   "cell_type": "markdown",
   "metadata": {},
   "source": [
    "## What just happened?\n",
    "\n",
    "We have just jump into a problem named `overfitting`. Overfitting is a problem where our predictor/regressor is correct for the training data, but incorrect for the testing data.\n",
    "\n",
    "Another problems with our approach are:\n",
    "\n",
    "* we naively believe that w1, w2, and w3 are integer\n",
    "* we naively believe that the predictor is a straight linear line. Probably we need some logarithm, power, and other eccentric operations in order to get the correct predictor/classifier\n",
    "\n",
    "Neural networks can definitely solve our two last problems. Overfitting is still a common problem in machine learning."
   ]
  },
  {
   "cell_type": "markdown",
   "metadata": {},
   "source": [
    "# Neural Network approach\n",
    "\n",
    "As already stated, neural network is no magic.\n",
    "\n",
    "In our previous approach, the regressor is formulated as follow: \n",
    "\n",
    "$$weight = w1.age + w2.height + w3$$\n",
    "\n",
    "Suppose we have a function `f` to process the result, the regressor should looks like this:\n",
    "\n",
    "$$weight = f(w1.age + w2.height + w3)$$\n",
    "\n",
    "This is what a single neuron in neural network do !!!\n",
    "\n",
    "![]()\n",
    "\n"
   ]
  },
  {
   "cell_type": "markdown",
   "metadata": {},
   "source": [
    "# Neural Network implementation using Tensorflow\n",
    "\n",
    "TensorFlow is an open-source software library for dataflow programming across a range of tasks. It is a symbolic math library, and is also used for machine learning applications such as neural networks.\n",
    "\n",
    "Unlike `sklearn.neural_network`, tensorflow give us more freedom to set up our neural-network.\n",
    "\n",
    "First of all, let's try to import tensorflow and keras (which is now also part of tensorflow)\n",
    "\n",
    "## Importing Tensorflow and Keras"
   ]
  },
  {
   "cell_type": "code",
   "execution_count": 45,
   "metadata": {},
   "outputs": [],
   "source": [
    "# TensorFlow and tf.keras\n",
    "import tensorflow as tf\n",
    "from tensorflow import keras\n",
    "\n",
    "# Helper libraries\n",
    "import numpy as np\n",
    "import matplotlib.pyplot as plt"
   ]
  },
  {
   "cell_type": "markdown",
   "metadata": {},
   "source": [
    "## Explore the dataset\n",
    "\n",
    "We will try to perform classification task on mnist's dataset (http://yann.lecun.com/exdb/mnist/). The dataset contains of `70000` gray-scale images. Each image has `28 x 28` dimension and belong to one (and only one) of the following 10 classes:"
   ]
  },
  {
   "cell_type": "code",
   "execution_count": 46,
   "metadata": {},
   "outputs": [],
   "source": [
    "class_names = ['zero', 'one', 'two', 'three', 'four', 'five', 'six', 'seven', 'eight', 'nine']"
   ]
  },
  {
   "cell_type": "markdown",
   "metadata": {},
   "source": [
    "Now, let's download `fashion_mnist` dataset from `keras.datasets` and split them into `train` and `test` set. By default, the dataset contains of `60000` training set and `10000` test set."
   ]
  },
  {
   "cell_type": "code",
   "execution_count": 47,
   "metadata": {},
   "outputs": [],
   "source": [
    "mnist = keras.datasets.mnist\n",
    "\n",
    "(train_images, train_labels), (test_images, test_labels) = mnist.load_data()\n"
   ]
  },
  {
   "cell_type": "markdown",
   "metadata": {},
   "source": [
    "Let's explore the data a little bit\n",
    "\n",
    "Here is a bit information about our `train_labels`. It is a one-dimension array with 60000 elements"
   ]
  },
  {
   "cell_type": "code",
   "execution_count": 48,
   "metadata": {},
   "outputs": [
    {
     "data": {
      "text/plain": [
       "array([5, 0, 4, ..., 5, 6, 8], dtype=uint8)"
      ]
     },
     "execution_count": 48,
     "metadata": {},
     "output_type": "execute_result"
    }
   ],
   "source": [
    "train_labels"
   ]
  },
  {
   "cell_type": "code",
   "execution_count": 49,
   "metadata": {},
   "outputs": [
    {
     "data": {
      "text/plain": [
       "(60000,)"
      ]
     },
     "execution_count": 49,
     "metadata": {},
     "output_type": "execute_result"
    }
   ],
   "source": [
    "train_labels.shape"
   ]
  },
  {
   "cell_type": "markdown",
   "metadata": {},
   "source": [
    "Now, let's explore our `train_images`"
   ]
  },
  {
   "cell_type": "code",
   "execution_count": 50,
   "metadata": {},
   "outputs": [
    {
     "data": {
      "text/plain": [
       "array([[[0, 0, 0, ..., 0, 0, 0],\n",
       "        [0, 0, 0, ..., 0, 0, 0],\n",
       "        [0, 0, 0, ..., 0, 0, 0],\n",
       "        ...,\n",
       "        [0, 0, 0, ..., 0, 0, 0],\n",
       "        [0, 0, 0, ..., 0, 0, 0],\n",
       "        [0, 0, 0, ..., 0, 0, 0]],\n",
       "\n",
       "       [[0, 0, 0, ..., 0, 0, 0],\n",
       "        [0, 0, 0, ..., 0, 0, 0],\n",
       "        [0, 0, 0, ..., 0, 0, 0],\n",
       "        ...,\n",
       "        [0, 0, 0, ..., 0, 0, 0],\n",
       "        [0, 0, 0, ..., 0, 0, 0],\n",
       "        [0, 0, 0, ..., 0, 0, 0]],\n",
       "\n",
       "       [[0, 0, 0, ..., 0, 0, 0],\n",
       "        [0, 0, 0, ..., 0, 0, 0],\n",
       "        [0, 0, 0, ..., 0, 0, 0],\n",
       "        ...,\n",
       "        [0, 0, 0, ..., 0, 0, 0],\n",
       "        [0, 0, 0, ..., 0, 0, 0],\n",
       "        [0, 0, 0, ..., 0, 0, 0]],\n",
       "\n",
       "       ...,\n",
       "\n",
       "       [[0, 0, 0, ..., 0, 0, 0],\n",
       "        [0, 0, 0, ..., 0, 0, 0],\n",
       "        [0, 0, 0, ..., 0, 0, 0],\n",
       "        ...,\n",
       "        [0, 0, 0, ..., 0, 0, 0],\n",
       "        [0, 0, 0, ..., 0, 0, 0],\n",
       "        [0, 0, 0, ..., 0, 0, 0]],\n",
       "\n",
       "       [[0, 0, 0, ..., 0, 0, 0],\n",
       "        [0, 0, 0, ..., 0, 0, 0],\n",
       "        [0, 0, 0, ..., 0, 0, 0],\n",
       "        ...,\n",
       "        [0, 0, 0, ..., 0, 0, 0],\n",
       "        [0, 0, 0, ..., 0, 0, 0],\n",
       "        [0, 0, 0, ..., 0, 0, 0]],\n",
       "\n",
       "       [[0, 0, 0, ..., 0, 0, 0],\n",
       "        [0, 0, 0, ..., 0, 0, 0],\n",
       "        [0, 0, 0, ..., 0, 0, 0],\n",
       "        ...,\n",
       "        [0, 0, 0, ..., 0, 0, 0],\n",
       "        [0, 0, 0, ..., 0, 0, 0],\n",
       "        [0, 0, 0, ..., 0, 0, 0]]], dtype=uint8)"
      ]
     },
     "execution_count": 50,
     "metadata": {},
     "output_type": "execute_result"
    }
   ],
   "source": [
    "train_images"
   ]
  },
  {
   "cell_type": "code",
   "execution_count": 51,
   "metadata": {},
   "outputs": [
    {
     "data": {
      "text/plain": [
       "(60000, 28, 28)"
      ]
     },
     "execution_count": 51,
     "metadata": {},
     "output_type": "execute_result"
    }
   ],
   "source": [
    "train_images.shape"
   ]
  },
  {
   "cell_type": "markdown",
   "metadata": {},
   "source": [
    "Just to make sure, let's see our first image and label in detail"
   ]
  },
  {
   "cell_type": "code",
   "execution_count": 52,
   "metadata": {},
   "outputs": [
    {
     "name": "stdout",
     "output_type": "stream",
     "text": [
      "label:  5\n",
      "which is:  five\n"
     ]
    },
    {
     "data": {
      "image/png": "[encoded data removed]",
      "text/plain": [
       "<Figure size 432x288 with 1 Axes>"
      ]
     },
     "metadata": {
      "needs_background": "light"
     },
     "output_type": "display_data"
    }
   ],
   "source": [
    "index = 0\n",
    "label = train_labels[index]\n",
    "image = train_images[index]\n",
    "\n",
    "print(\"label: \", label) # this is the first train_labels\n",
    "print(\"which is: \", class_names[label]) # use our pre-defined class_names to get textual representation of the label\n",
    "plt.figure()\n",
    "plt.imshow(image) # if you just want to see the matrix representation of the image, use `image` instead\n",
    "plt.show()\n"
   ]
  },
  {
   "cell_type": "markdown",
   "metadata": {},
   "source": [
    "## Configuring the neural network model\n",
    "\n",
    "Finally, let's build our neural network.\n",
    "\n",
    "First of all, we define 3 layers here:\n",
    "\n",
    "* flatten layer with input_shape = 28x28: This one will transform our 2 dimensional matrix into 1 dimensional matrix (or a vector). The output of this layer will be an array with 784 elements\n",
    "* dense layer containing 1024 neuron with sigmoid activation: This one will create a layer containing 128 neuron. Each of them is connected to the output of our previous layer (an array containing 784 elements). Each neuron activation is depending on `sigmoid` function (https://en.wikipedia.org/wiki/Sigmoid_function)\n",
    "* dense layer containing 10 neuron with softmax activation: Finally, since we have 10 classes, it is natural to have 10 neuron in our output layer. Each neuron should show us how probable is an image belong to a particular class. Finally, we will use softmax to return the prediction result (https://en.wikipedia.org/wiki/Softmax_function)\n",
    "\n",
    "After defining the layers, we need to define our optimizer, loss function, and metrics:\n",
    "\n",
    "* optimizer: How to optimize. We use adam optimization (https://machinelearningmastery.com/adam-optimization-algorithm-for-deep-learning/)\n",
    "* loss function: How to calculate error\n",
    "* metrics: How to measure the quality of the network"
   ]
  },
  {
   "cell_type": "code",
   "execution_count": 53,
   "metadata": {},
   "outputs": [],
   "source": [
    "model = keras.Sequential([\n",
    "    keras.layers.Flatten(input_shape=(28, 28)),\n",
    "    keras.layers.Dense(1024, activation=tf.nn.sigmoid),\n",
    "    keras.layers.Dense(10, activation=tf.nn.softmax)\n",
    "])\n",
    "model.compile(optimizer='adam',\n",
    "              loss='sparse_categorical_crossentropy',\n",
    "              metrics=['accuracy'])\n",
    "\n"
   ]
  },
  {
   "cell_type": "markdown",
   "metadata": {},
   "source": [
    "## Train the neural network model"
   ]
  },
  {
   "cell_type": "code",
   "execution_count": 54,
   "metadata": {},
   "outputs": [
    {
     "name": "stdout",
     "output_type": "stream",
     "text": [
      "Train on 60000 samples\n",
      "Epoch 1/5\n",
      "60000/60000 [==============================] - 8s 133us/sample - loss: 0.3687 - accuracy: 0.8954\n",
      "Epoch 2/5\n",
      "60000/60000 [==============================] - 8s 129us/sample - loss: 0.2767 - accuracy: 0.9184\n",
      "Epoch 3/5\n",
      "60000/60000 [==============================] - 8s 131us/sample - loss: 0.2467 - accuracy: 0.9273\n",
      "Epoch 4/5\n",
      "60000/60000 [==============================] - 8s 132us/sample - loss: 0.2285 - accuracy: 0.9304\n",
      "Epoch 5/5\n",
      "60000/60000 [==============================] - 8s 132us/sample - loss: 0.2158 - accuracy: 0.9337\n",
      "10000/10000 [==============================] - 1s 71us/sample - loss: 0.1969 - accuracy: 0.9367\n",
      "Test accuracy: 0.9367\n"
     ]
    }
   ],
   "source": [
    "model.fit(train_images, train_labels, epochs=5)\n",
    "test_loss, test_acc = model.evaluate(test_images, test_labels)\n",
    "print('Test accuracy:', test_acc)"
   ]
  },
  {
   "cell_type": "markdown",
   "metadata": {},
   "source": [
    "## Prediction"
   ]
  },
  {
   "cell_type": "code",
   "execution_count": 55,
   "metadata": {},
   "outputs": [
    {
     "name": "stdout",
     "output_type": "stream",
     "text": [
      "target label:  7 seven\n",
      "prediction label:  7 seven\n"
     ]
    },
    {
     "data": {
      "image/png": "[encoded data removed]",
      "text/plain": [
       "<Figure size 432x288 with 1 Axes>"
      ]
     },
     "metadata": {
      "needs_background": "light"
     },
     "output_type": "display_data"
    }
   ],
   "source": [
    "predictions = model.predict(test_images)\n",
    "np.argmax(predictions[0])\n",
    "\n",
    "index = 0\n",
    "prediction_label = np.argmax(predictions[0])\n",
    "target_label = test_labels[index]\n",
    "image = test_images[index]\n",
    "\n",
    "print(\"target label: \", target_label, class_names[target_label])\n",
    "print(\"prediction label: \", prediction_label, class_names[prediction_label])\n",
    "plt.figure()\n",
    "plt.imshow(image) # if you just want to see the matrix representation of the image, use `image` instead\n",
    "plt.show()\n"
   ]
  },
  {
   "cell_type": "markdown",
   "metadata": {},
   "source": [
    "# Further discussion\n",
    "\n",
    "For classical machine learning (as this one), data preprocessing is quite important. Please look at this: https://github.com/shayan09/MNIST-Handwriting-Recognition-using-Keras/blob/master/Basic%20Keras%20NN.ipynb for comparison."
   ]
  }
 ],
 "metadata": {
  "kernelspec": {
   "display_name": "Python 3",
   "language": "python",
   "name": "python3"
  },
  "language_info": {
   "codemirror_mode": {
    "name": "ipython",
    "version": 3
   },
   "file_extension": ".py",
   "mimetype": "text/x-python",
   "name": "python",
   "nbconvert_exporter": "python",
   "pygments_lexer": "ipython3",
   "version": "3.7.3"
  }
 },
 "nbformat": 4,
 "nbformat_minor": 2
}
