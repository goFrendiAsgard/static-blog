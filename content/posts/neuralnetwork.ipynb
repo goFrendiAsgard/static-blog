{
 "cells": [
  {
   "cell_type": "raw",
   "metadata": {},
   "source": [
    "---\n",
    "title: \"Neural Network From Scratch\"\n",
    "date: 2019-07-31T07:48:41+07:00\n",
    "categories:\n",
    "- Machine Learning\n",
    "tags:\n",
    "- Macine Learning\n",
    "---"
   ]
  },
  {
   "cell_type": "markdown",
   "metadata": {},
   "source": [
    "# Implementation with Tensorflow\n",
    "\n",
    "TensorFlow is an open-source software library for dataflow programming across a range of tasks. It is a symbolic math library, and is also used for machine learning applications such as neural networks.\n",
    "\n",
    "Unlike `sklearn.neural_network`, tensorflow give us more freedom to set up our neural-network.\n",
    "\n",
    "The following implementation was taken directly from https://www.tensorflow.org/tutorials/keras/basic_classification\n",
    "\n",
    "First of all, let's try to import tensorflow and keras (which is now also part of tensorflow)\n",
    "\n",
    "## Importing Tensorflow and Keras"
   ]
  },
  {
   "cell_type": "code",
   "execution_count": 86,
   "metadata": {},
   "outputs": [],
   "source": [
    "# TensorFlow and tf.keras\n",
    "import tensorflow as tf\n",
    "from tensorflow import keras\n",
    "\n",
    "# Helper libraries\n",
    "import numpy as np\n",
    "import matplotlib.pyplot as plt"
   ]
  },
  {
   "cell_type": "markdown",
   "metadata": {},
   "source": [
    "## Explore the dataset\n",
    "\n",
    "We will try to perform classification task on mnist's dataset (http://yann.lecun.com/exdb/mnist/). The dataset contains of `70000` gray-scale images. Each image has `28 x 28` dimension and belong to one (and only one) of the following 10 classes:"
   ]
  },
  {
   "cell_type": "code",
   "execution_count": 87,
   "metadata": {},
   "outputs": [],
   "source": [
    "class_names = ['zero', 'one', 'two', 'three', 'four', 'five', 'six', 'seven', 'eight', 'nine']"
   ]
  },
  {
   "cell_type": "markdown",
   "metadata": {},
   "source": [
    "Now, let's download `fashion_mnist` dataset from `keras.datasets` and split them into `train` and `test` set. By default, the dataset contains of `60000` training set and `10000` test set."
   ]
  },
  {
   "cell_type": "code",
   "execution_count": 88,
   "metadata": {},
   "outputs": [],
   "source": [
    "mnist = keras.datasets.mnist\n",
    "\n",
    "(train_images, train_labels), (test_images, test_labels) = mnist.load_data()\n"
   ]
  },
  {
   "cell_type": "markdown",
   "metadata": {},
   "source": [
    "Let's explore the data a little bit\n",
    "\n",
    "Here is a bit information about our `train_labels`. It is a one-dimension array with 60000 elements"
   ]
  },
  {
   "cell_type": "code",
   "execution_count": 89,
   "metadata": {},
   "outputs": [
    {
     "data": {
      "text/plain": [
       "array([5, 0, 4, ..., 5, 6, 8], dtype=uint8)"
      ]
     },
     "execution_count": 89,
     "metadata": {},
     "output_type": "execute_result"
    }
   ],
   "source": [
    "train_labels"
   ]
  },
  {
   "cell_type": "code",
   "execution_count": 90,
   "metadata": {},
   "outputs": [
    {
     "data": {
      "text/plain": [
       "(60000,)"
      ]
     },
     "execution_count": 90,
     "metadata": {},
     "output_type": "execute_result"
    }
   ],
   "source": [
    "train_labels.shape"
   ]
  },
  {
   "cell_type": "markdown",
   "metadata": {},
   "source": [
    "Now, let's explore our `train_images`"
   ]
  },
  {
   "cell_type": "code",
   "execution_count": 91,
   "metadata": {},
   "outputs": [
    {
     "data": {
      "text/plain": [
       "array([[[0, 0, 0, ..., 0, 0, 0],\n",
       "        [0, 0, 0, ..., 0, 0, 0],\n",
       "        [0, 0, 0, ..., 0, 0, 0],\n",
       "        ...,\n",
       "        [0, 0, 0, ..., 0, 0, 0],\n",
       "        [0, 0, 0, ..., 0, 0, 0],\n",
       "        [0, 0, 0, ..., 0, 0, 0]],\n",
       "\n",
       "       [[0, 0, 0, ..., 0, 0, 0],\n",
       "        [0, 0, 0, ..., 0, 0, 0],\n",
       "        [0, 0, 0, ..., 0, 0, 0],\n",
       "        ...,\n",
       "        [0, 0, 0, ..., 0, 0, 0],\n",
       "        [0, 0, 0, ..., 0, 0, 0],\n",
       "        [0, 0, 0, ..., 0, 0, 0]],\n",
       "\n",
       "       [[0, 0, 0, ..., 0, 0, 0],\n",
       "        [0, 0, 0, ..., 0, 0, 0],\n",
       "        [0, 0, 0, ..., 0, 0, 0],\n",
       "        ...,\n",
       "        [0, 0, 0, ..., 0, 0, 0],\n",
       "        [0, 0, 0, ..., 0, 0, 0],\n",
       "        [0, 0, 0, ..., 0, 0, 0]],\n",
       "\n",
       "       ...,\n",
       "\n",
       "       [[0, 0, 0, ..., 0, 0, 0],\n",
       "        [0, 0, 0, ..., 0, 0, 0],\n",
       "        [0, 0, 0, ..., 0, 0, 0],\n",
       "        ...,\n",
       "        [0, 0, 0, ..., 0, 0, 0],\n",
       "        [0, 0, 0, ..., 0, 0, 0],\n",
       "        [0, 0, 0, ..., 0, 0, 0]],\n",
       "\n",
       "       [[0, 0, 0, ..., 0, 0, 0],\n",
       "        [0, 0, 0, ..., 0, 0, 0],\n",
       "        [0, 0, 0, ..., 0, 0, 0],\n",
       "        ...,\n",
       "        [0, 0, 0, ..., 0, 0, 0],\n",
       "        [0, 0, 0, ..., 0, 0, 0],\n",
       "        [0, 0, 0, ..., 0, 0, 0]],\n",
       "\n",
       "       [[0, 0, 0, ..., 0, 0, 0],\n",
       "        [0, 0, 0, ..., 0, 0, 0],\n",
       "        [0, 0, 0, ..., 0, 0, 0],\n",
       "        ...,\n",
       "        [0, 0, 0, ..., 0, 0, 0],\n",
       "        [0, 0, 0, ..., 0, 0, 0],\n",
       "        [0, 0, 0, ..., 0, 0, 0]]], dtype=uint8)"
      ]
     },
     "execution_count": 91,
     "metadata": {},
     "output_type": "execute_result"
    }
   ],
   "source": [
    "train_images"
   ]
  },
  {
   "cell_type": "code",
   "execution_count": 92,
   "metadata": {},
   "outputs": [
    {
     "data": {
      "text/plain": [
       "(60000, 28, 28)"
      ]
     },
     "execution_count": 92,
     "metadata": {},
     "output_type": "execute_result"
    }
   ],
   "source": [
    "train_images.shape"
   ]
  },
  {
   "cell_type": "markdown",
   "metadata": {},
   "source": [
    "Just to make sure, let's see our first image and label in detail"
   ]
  },
  {
   "cell_type": "code",
   "execution_count": 93,
   "metadata": {},
   "outputs": [
    {
     "name": "stdout",
     "output_type": "stream",
     "text": [
      "label:  5\n",
      "which is:  five\n"
     ]
    },
    {
     "data": {
      "image/png": "[encoded data removed]",
      "text/plain": [
       "<Figure size 432x288 with 1 Axes>"
      ]
     },
     "metadata": {
      "needs_background": "light"
     },
     "output_type": "display_data"
    }
   ],
   "source": [
    "index = 0\n",
    "label = train_labels[index]\n",
    "image = train_images[index]\n",
    "\n",
    "print(\"label: \", label) # this is the first train_labels\n",
    "print(\"which is: \", class_names[label]) # use our pre-defined class_names to get textual representation of the label\n",
    "plt.figure()\n",
    "plt.imshow(image) # if you just want to see the matrix representation of the image, use `image` instead\n",
    "plt.show()\n"
   ]
  },
  {
   "cell_type": "markdown",
   "metadata": {},
   "source": [
    "## Configuring the neural network model\n",
    "\n",
    "Finally, let's build our neural network.\n",
    "\n",
    "First of all, we define 3 layers here:\n",
    "\n",
    "* flatten layer with input_shape = 28x28: This one will transform our 2 dimensional matrix into 1 dimensional matrix (or a vector). The output of this layer will be an array with 784 elements\n",
    "* dense layer containing 128 neuron with relu activation: This one will create a layer containing 128 neuron. Each of them is connected to the output of our previous layer (an array containing 784 elements). Each neuron activation is depending on `relu` function (https://en.wikipedia.org/wiki/Rectifier_(neural_networks)\n",
    "* dense layer containing 10 neuron with softmax activation: Finally, since we have 10 classes, it is natural to have 10 neuron in our output layer. Each neuron should show us how probable is an image belong to a particular class. Finally, we will use softmax to return the prediction result (https://en.wikipedia.org/wiki/Softmax_function)\n",
    "\n",
    "After defining the layers, we need to define our optimizer, loss function, and metrics:\n",
    "\n",
    "* optimizer: How to optimize\n",
    "* loss function: How to calculate error\n",
    "* metrics: How to measure the quality of the network"
   ]
  },
  {
   "cell_type": "code",
   "execution_count": 94,
   "metadata": {},
   "outputs": [],
   "source": [
    "model = keras.Sequential([\n",
    "    keras.layers.Flatten(input_shape=(28, 28)),\n",
    "    keras.layers.Dense(128, activation=tf.nn.relu),\n",
    "    keras.layers.Dense(10, activation=tf.nn.softmax)\n",
    "])\n",
    "model.compile(optimizer='adam',\n",
    "              loss='sparse_categorical_crossentropy',\n",
    "              metrics=['accuracy'])\n",
    "\n"
   ]
  },
  {
   "cell_type": "markdown",
   "metadata": {},
   "source": [
    "## Train the neural network model"
   ]
  },
  {
   "cell_type": "code",
   "execution_count": 95,
   "metadata": {},
   "outputs": [
    {
     "name": "stdout",
     "output_type": "stream",
     "text": [
      "Train on 60000 samples\n",
      "Epoch 1/100\n",
      "60000/60000 [==============================] - 6s 94us/sample - loss: 9.4768 - accuracy: 0.4109\n",
      "Epoch 2/100\n",
      "60000/60000 [==============================] - 5s 90us/sample - loss: 8.0383 - accuracy: 0.5005\n",
      "Epoch 3/100\n",
      "60000/60000 [==============================] - 5s 90us/sample - loss: 7.2688 - accuracy: 0.5484\n",
      "Epoch 4/100\n",
      "60000/60000 [==============================] - 5s 90us/sample - loss: 7.1353 - accuracy: 0.5569\n",
      "Epoch 5/100\n",
      "60000/60000 [==============================] - 5s 90us/sample - loss: 6.9730 - accuracy: 0.5669\n",
      "Epoch 6/100\n",
      "60000/60000 [==============================] - 5s 91us/sample - loss: 6.9570 - accuracy: 0.5681\n",
      "Epoch 7/100\n",
      "60000/60000 [==============================] - 5s 90us/sample - loss: 6.6057 - accuracy: 0.5896\n",
      "Epoch 8/100\n",
      "60000/60000 [==============================] - 5s 91us/sample - loss: 6.1260 - accuracy: 0.6193\n",
      "Epoch 9/100\n",
      "60000/60000 [==============================] - 5s 90us/sample - loss: 5.8815 - accuracy: 0.6345\n",
      "Epoch 10/100\n",
      "60000/60000 [==============================] - 5s 92us/sample - loss: 5.6206 - accuracy: 0.6507\n",
      "Epoch 11/100\n",
      "60000/60000 [==============================] - 5s 92us/sample - loss: 4.6773 - accuracy: 0.7093\n",
      "Epoch 12/100\n",
      "60000/60000 [==============================] - 5s 91us/sample - loss: 4.5473 - accuracy: 0.7174\n",
      "Epoch 13/100\n",
      "60000/60000 [==============================] - 6s 92us/sample - loss: 4.5345 - accuracy: 0.7182\n",
      "Epoch 14/100\n",
      "60000/60000 [==============================] - 6s 92us/sample - loss: 4.4753 - accuracy: 0.7219\n",
      "Epoch 15/100\n",
      "60000/60000 [==============================] - 6s 93us/sample - loss: 4.5269 - accuracy: 0.7186\n",
      "Epoch 16/100\n",
      "60000/60000 [==============================] - 6s 93us/sample - loss: 4.4178 - accuracy: 0.7256\n",
      "Epoch 17/100\n",
      "60000/60000 [==============================] - 5s 91us/sample - loss: 4.4035 - accuracy: 0.7265\n",
      "Epoch 18/100\n",
      "60000/60000 [==============================] - 6s 93us/sample - loss: 4.3175 - accuracy: 0.7318\n",
      "Epoch 19/100\n",
      "60000/60000 [==============================] - 5s 92us/sample - loss: 4.3240 - accuracy: 0.7314\n",
      "Epoch 20/100\n",
      "60000/60000 [==============================] - 6s 93us/sample - loss: 4.2989 - accuracy: 0.7329\n",
      "Epoch 21/100\n",
      "60000/60000 [==============================] - 6s 92us/sample - loss: 4.1754 - accuracy: 0.7407\n",
      "Epoch 22/100\n",
      "60000/60000 [==============================] - 6s 92us/sample - loss: 4.3550 - accuracy: 0.7295\n",
      "Epoch 23/100\n",
      "60000/60000 [==============================] - 6s 92us/sample - loss: 4.2358 - accuracy: 0.7369\n",
      "Epoch 24/100\n",
      "60000/60000 [==============================] - 6s 93us/sample - loss: 4.2346 - accuracy: 0.7370\n",
      "Epoch 25/100\n",
      "60000/60000 [==============================] - 6s 92us/sample - loss: 4.1078 - accuracy: 0.7448\n",
      "Epoch 26/100\n",
      "60000/60000 [==============================] - 6s 93us/sample - loss: 4.1685 - accuracy: 0.7412\n",
      "Epoch 27/100\n",
      "60000/60000 [==============================] - 6s 93us/sample - loss: 4.2378 - accuracy: 0.7368\n",
      "Epoch 28/100\n",
      "60000/60000 [==============================] - 6s 93us/sample - loss: 4.2262 - accuracy: 0.7375\n",
      "Epoch 29/100\n",
      "60000/60000 [==============================] - 6s 93us/sample - loss: 4.1886 - accuracy: 0.7399\n",
      "Epoch 30/100\n",
      "60000/60000 [==============================] - 6s 93us/sample - loss: 4.1263 - accuracy: 0.7438\n",
      "Epoch 31/100\n",
      "60000/60000 [==============================] - 6s 94us/sample - loss: 4.2394 - accuracy: 0.7368\n",
      "Epoch 32/100\n",
      "60000/60000 [==============================] - 6s 94us/sample - loss: 4.0048 - accuracy: 0.7514\n",
      "Epoch 33/100\n",
      "60000/60000 [==============================] - 6s 93us/sample - loss: 4.1238 - accuracy: 0.7440\n",
      "Epoch 34/100\n",
      "60000/60000 [==============================] - 6s 94us/sample - loss: 4.1525 - accuracy: 0.7421\n",
      "Epoch 35/100\n",
      "60000/60000 [==============================] - 6s 93us/sample - loss: 4.1032 - accuracy: 0.7453\n",
      "Epoch 36/100\n",
      "60000/60000 [==============================] - 6s 94us/sample - loss: 4.1175 - accuracy: 0.7443\n",
      "Epoch 37/100\n",
      "60000/60000 [==============================] - 6s 94us/sample - loss: 4.3530 - accuracy: 0.7297\n",
      "Epoch 38/100\n",
      "60000/60000 [==============================] - 6s 93us/sample - loss: 4.1691 - accuracy: 0.7412\n",
      "Epoch 39/100\n",
      "60000/60000 [==============================] - 5s 86us/sample - loss: 4.0590 - accuracy: 0.7480\n",
      "Epoch 40/100\n",
      "60000/60000 [==============================] - 5s 90us/sample - loss: 4.0694 - accuracy: 0.7473\n",
      "Epoch 41/100\n",
      "60000/60000 [==============================] - 5s 87us/sample - loss: 4.0510 - accuracy: 0.7485\n",
      "Epoch 42/100\n",
      "60000/60000 [==============================] - 5s 87us/sample - loss: 4.0803 - accuracy: 0.7467\n",
      "Epoch 43/100\n",
      "60000/60000 [==============================] - 5s 87us/sample - loss: 4.2356 - accuracy: 0.7370\n",
      "Epoch 44/100\n",
      "60000/60000 [==============================] - 5s 88us/sample - loss: 4.1049 - accuracy: 0.7452\n",
      "Epoch 45/100\n",
      "60000/60000 [==============================] - 5s 87us/sample - loss: 4.0528 - accuracy: 0.7484\n",
      "Epoch 46/100\n",
      "60000/60000 [==============================] - 5s 87us/sample - loss: 4.0291 - accuracy: 0.7498\n",
      "Epoch 47/100\n",
      "60000/60000 [==============================] - 5s 88us/sample - loss: 3.9522 - accuracy: 0.7547\n",
      "Epoch 48/100\n",
      "60000/60000 [==============================] - 6s 96us/sample - loss: 3.9992 - accuracy: 0.7517\n",
      "Epoch 49/100\n",
      "60000/60000 [==============================] - 6s 93us/sample - loss: 4.0291 - accuracy: 0.7499\n",
      "Epoch 50/100\n",
      "60000/60000 [==============================] - 6s 96us/sample - loss: 3.9588 - accuracy: 0.7542\n",
      "Epoch 51/100\n",
      "60000/60000 [==============================] - 5s 91us/sample - loss: 3.9611 - accuracy: 0.7541\n",
      "Epoch 52/100\n",
      "60000/60000 [==============================] - 5s 91us/sample - loss: 4.0488 - accuracy: 0.7487\n",
      "Epoch 53/100\n",
      "60000/60000 [==============================] - 6s 94us/sample - loss: 3.9929 - accuracy: 0.7522\n",
      "Epoch 54/100\n",
      "60000/60000 [==============================] - 6s 93us/sample - loss: 3.9734 - accuracy: 0.7533\n",
      "Epoch 55/100\n",
      "60000/60000 [==============================] - 6s 92us/sample - loss: 4.0326 - accuracy: 0.7496\n",
      "Epoch 56/100\n",
      "60000/60000 [==============================] - 6s 95us/sample - loss: 4.0214 - accuracy: 0.7504\n",
      "Epoch 57/100\n",
      "60000/60000 [==============================] - 6s 94us/sample - loss: 4.0237 - accuracy: 0.7502\n",
      "Epoch 58/100\n",
      "60000/60000 [==============================] - 6s 95us/sample - loss: 4.0089 - accuracy: 0.7511\n",
      "Epoch 59/100\n",
      "60000/60000 [==============================] - 6s 93us/sample - loss: 3.8984 - accuracy: 0.7580\n",
      "Epoch 60/100\n",
      "60000/60000 [==============================] - 6s 93us/sample - loss: 3.9781 - accuracy: 0.7530\n",
      "Epoch 61/100\n",
      "60000/60000 [==============================] - 6s 94us/sample - loss: 3.9318 - accuracy: 0.7560\n",
      "Epoch 62/100\n",
      "60000/60000 [==============================] - 6s 94us/sample - loss: 4.1118 - accuracy: 0.7448\n",
      "Epoch 63/100\n",
      "60000/60000 [==============================] - 6s 94us/sample - loss: 4.0048 - accuracy: 0.7514\n",
      "Epoch 64/100\n",
      "60000/60000 [==============================] - 6s 94us/sample - loss: 4.0615 - accuracy: 0.7479\n",
      "Epoch 65/100\n",
      "60000/60000 [==============================] - 6s 94us/sample - loss: 3.9387 - accuracy: 0.7555\n",
      "Epoch 66/100\n",
      "60000/60000 [==============================] - 6s 93us/sample - loss: 3.9485 - accuracy: 0.7548\n",
      "Epoch 67/100\n",
      "60000/60000 [==============================] - 6s 94us/sample - loss: 3.9242 - accuracy: 0.7564\n",
      "Epoch 68/100\n",
      "60000/60000 [==============================] - 6s 92us/sample - loss: 3.8543 - accuracy: 0.7608\n",
      "Epoch 69/100\n",
      "60000/60000 [==============================] - 6s 93us/sample - loss: 3.9845 - accuracy: 0.7527\n",
      "Epoch 70/100\n",
      "60000/60000 [==============================] - 6s 93us/sample - loss: 4.0102 - accuracy: 0.7510\n",
      "Epoch 71/100\n",
      "60000/60000 [==============================] - 6s 93us/sample - loss: 4.0308 - accuracy: 0.7498\n",
      "Epoch 72/100\n",
      "60000/60000 [==============================] - 6s 93us/sample - loss: 3.8557 - accuracy: 0.7606\n",
      "Epoch 73/100\n",
      "60000/60000 [==============================] - 6s 93us/sample - loss: 3.8924 - accuracy: 0.7584\n",
      "Epoch 74/100\n",
      "60000/60000 [==============================] - 6s 93us/sample - loss: 4.0663 - accuracy: 0.7476\n",
      "Epoch 75/100\n",
      "60000/60000 [==============================] - 6s 93us/sample - loss: 3.8677 - accuracy: 0.7599\n",
      "Epoch 76/100\n"
     ]
    },
    {
     "name": "stdout",
     "output_type": "stream",
     "text": [
      "60000/60000 [==============================] - 5s 90us/sample - loss: 4.0528 - accuracy: 0.7485\n",
      "Epoch 77/100\n",
      "60000/60000 [==============================] - 5s 90us/sample - loss: 3.9462 - accuracy: 0.7551\n",
      "Epoch 78/100\n",
      "60000/60000 [==============================] - 5s 91us/sample - loss: 3.8967 - accuracy: 0.7581\n",
      "Epoch 79/100\n",
      "60000/60000 [==============================] - 5s 90us/sample - loss: 4.0119 - accuracy: 0.7510\n",
      "Epoch 80/100\n",
      "60000/60000 [==============================] - 5s 91us/sample - loss: 3.8886 - accuracy: 0.7587\n",
      "Epoch 81/100\n",
      "60000/60000 [==============================] - 5s 91us/sample - loss: 3.8775 - accuracy: 0.7594\n",
      "Epoch 82/100\n",
      "60000/60000 [==============================] - 5s 86us/sample - loss: 3.7995 - accuracy: 0.7642\n",
      "Epoch 83/100\n",
      "60000/60000 [==============================] - 5s 87us/sample - loss: 3.7972 - accuracy: 0.7643\n",
      "Epoch 84/100\n",
      "60000/60000 [==============================] - 5s 86us/sample - loss: 3.9107 - accuracy: 0.7572\n",
      "Epoch 85/100\n",
      "60000/60000 [==============================] - 5s 87us/sample - loss: 3.8611 - accuracy: 0.7604\n",
      "Epoch 86/100\n",
      "60000/60000 [==============================] - 5s 86us/sample - loss: 3.9305 - accuracy: 0.7560\n",
      "Epoch 87/100\n",
      "60000/60000 [==============================] - 5s 86us/sample - loss: 3.8945 - accuracy: 0.7583\n",
      "Epoch 88/100\n",
      "60000/60000 [==============================] - 5s 87us/sample - loss: 3.8754 - accuracy: 0.7595\n",
      "Epoch 89/100\n",
      "60000/60000 [==============================] - 5s 87us/sample - loss: 3.8740 - accuracy: 0.7596\n",
      "Epoch 90/100\n",
      "60000/60000 [==============================] - 6s 93us/sample - loss: 3.9132 - accuracy: 0.7571\n",
      "Epoch 91/100\n",
      "60000/60000 [==============================] - 6s 93us/sample - loss: 3.8803 - accuracy: 0.7591\n",
      "Epoch 92/100\n",
      "60000/60000 [==============================] - 6s 92us/sample - loss: 3.9693 - accuracy: 0.7537\n",
      "Epoch 93/100\n",
      "60000/60000 [==============================] - 5s 91us/sample - loss: 4.0703 - accuracy: 0.7474\n",
      "Epoch 94/100\n",
      "60000/60000 [==============================] - 6s 94us/sample - loss: 3.8868 - accuracy: 0.7588\n",
      "Epoch 95/100\n",
      "60000/60000 [==============================] - 5s 92us/sample - loss: 3.8406 - accuracy: 0.7616\n",
      "Epoch 96/100\n",
      "60000/60000 [==============================] - 6s 92us/sample - loss: 3.7705 - accuracy: 0.7660\n",
      "Epoch 97/100\n",
      "60000/60000 [==============================] - 6s 92us/sample - loss: 3.8150 - accuracy: 0.7632\n",
      "Epoch 98/100\n",
      "60000/60000 [==============================] - 5s 92us/sample - loss: 3.8774 - accuracy: 0.7593\n",
      "Epoch 99/100\n",
      "60000/60000 [==============================] - 5s 91us/sample - loss: 3.9108 - accuracy: 0.7573\n",
      "Epoch 100/100\n",
      "60000/60000 [==============================] - 5s 91us/sample - loss: 3.9316 - accuracy: 0.7560\n",
      "10000/10000 [==============================] - 1s 55us/sample - loss: 3.8109 - accuracy: 0.7635\n",
      "Test accuracy: 0.7635\n"
     ]
    }
   ],
   "source": [
    "model.fit(train_images, train_labels, epochs=100)\n",
    "test_loss, test_acc = model.evaluate(test_images, test_labels)\n",
    "print('Test accuracy:', test_acc)"
   ]
  },
  {
   "cell_type": "markdown",
   "metadata": {},
   "source": [
    "## Prediction"
   ]
  },
  {
   "cell_type": "code",
   "execution_count": 96,
   "metadata": {},
   "outputs": [
    {
     "name": "stdout",
     "output_type": "stream",
     "text": [
      "target label:  7 seven\n",
      "prediction label:  7 seven\n"
     ]
    },
    {
     "data": {
      "image/png": "[encoded data removed]",
      "text/plain": [
       "<Figure size 432x288 with 1 Axes>"
      ]
     },
     "metadata": {
      "needs_background": "light"
     },
     "output_type": "display_data"
    }
   ],
   "source": [
    "predictions = model.predict(test_images)\n",
    "np.argmax(predictions[0])\n",
    "\n",
    "index = 0\n",
    "prediction_label = np.argmax(predictions[0])\n",
    "target_label = test_labels[index]\n",
    "image = test_images[index]\n",
    "\n",
    "print(\"target label: \", target_label, class_names[target_label])\n",
    "print(\"prediction label: \", prediction_label, class_names[prediction_label])\n",
    "plt.figure()\n",
    "plt.imshow(image) # if you just want to see the matrix representation of the image, use `image` instead\n",
    "plt.show()\n"
   ]
  },
  {
   "cell_type": "code",
   "execution_count": null,
   "metadata": {},
   "outputs": [],
   "source": []
  }
 ],
 "metadata": {
  "kernelspec": {
   "display_name": "Python 3",
   "language": "python",
   "name": "python3"
  },
  "language_info": {
   "codemirror_mode": {
    "name": "ipython",
    "version": 3
   },
   "file_extension": ".py",
   "mimetype": "text/x-python",
   "name": "python",
   "nbconvert_exporter": "python",
   "pygments_lexer": "ipython3",
   "version": "3.7.3"
  }
 },
 "nbformat": 4,
 "nbformat_minor": 2
}
